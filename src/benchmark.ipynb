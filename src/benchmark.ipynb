{
 "cells": [
  {
   "cell_type": "code",
   "execution_count": 1,
   "metadata": {},
   "outputs": [],
   "source": [
    "import argparse\n",
    "import numpy as np\n",
    "import networkx as nx\n",
    "import n2v\n",
    "from gensim.models import Word2Vec"
   ]
  },
  {
   "cell_type": "code",
   "execution_count": 39,
   "metadata": {},
   "outputs": [],
   "source": [
    "def parse_args():\n",
    "    '''\n",
    "    Parses the node2vec arguments.\n",
    "    '''\n",
    "    parser = argparse.ArgumentParser(description=\"Run node2vec.\")\n",
    "\n",
    "    parser.add_argument('--input', nargs='?', default='graph/karate.edgelist',\n",
    "                        help='Input graph path')\n",
    "\n",
    "    parser.add_argument('--output', nargs='?', default='emb/karate.emb',\n",
    "                        help='Embeddings path')\n",
    "\n",
    "    parser.add_argument('--dimensions', type=int, default=128,\n",
    "                        help='Number of dimensions. Default is 128.')\n",
    "\n",
    "    parser.add_argument('--walk-length', type=int, default=80,\n",
    "                        help='Length of walk per source. Default is 80.')\n",
    "\n",
    "    parser.add_argument('--num-walks', type=int, default=10,\n",
    "                        help='Number of walks per source. Default is 10.')\n",
    "\n",
    "    parser.add_argument('--window-size', type=int, default=10,\n",
    "                        help='Context size for optimization. Default is 10.')\n",
    "\n",
    "    parser.add_argument('--iter', default=1, type=int,\n",
    "                      help='Number of epochs in SGD')\n",
    "\n",
    "    parser.add_argument('--workers', type=int, default=8,\n",
    "                        help='Number of parallel workers. Default is 8.')\n",
    "\n",
    "    parser.add_argument('--p', type=float, default=1,\n",
    "                        help='Return hyperparameter. Default is 1.')\n",
    "\n",
    "    parser.add_argument('--q', type=float, default=1,\n",
    "                        help='Inout hyperparameter. Default is 1.')\n",
    "\n",
    "    parser.add_argument('--weighted', dest='weighted', action='store_true',\n",
    "                        help='Boolean specifying (un)weighted. Default is unweighted.')\n",
    "    parser.add_argument('--unweighted', dest='unweighted', action='store_false')\n",
    "    parser.set_defaults(weighted=False)\n",
    "\n",
    "    parser.add_argument('--directed', dest='directed', action='store_true',\n",
    "                        help='Graph is (un)directed. Default is undirected.')\n",
    "    parser.add_argument('--undirected', dest='undirected', action='store_false')\n",
    "    parser.set_defaults(directed=False)\n",
    "\n",
    "    return parser.parse_args()\n",
    "\n",
    "def read_graph(input, is_weighted, is_directed):\n",
    "    '''\n",
    "    Reads the input network in networkx.\n",
    "    '''\n",
    "    if is_weighted:\n",
    "        G = nx.read_edgelist(input, nodetype=int, data=(('weight',float),), create_using=nx.DiGraph())\n",
    "    else:\n",
    "        G = nx.read_edgelist(input, nodetype=int, create_using=nx.DiGraph())\n",
    "        for edge in G.edges():\n",
    "            G[edge[0]][edge[1]]['weight'] = 1\n",
    "\n",
    "    if not is_directed:\n",
    "        G = G.to_undirected()\n",
    "    return G\n",
    "\n",
    "def learn_embeddings(walks, dimensions, window_size, workers, iter, output):\n",
    "    '''\n",
    "    Learn embeddings by optimizing the Skipgram objective using SGD.\n",
    "    '''\n",
    "    walks = [list(map(str, walk)) for walk in walks]\n",
    "    model = Word2Vec(walks, size=dimensions, window=window_size, min_count=0, sg=1, workers=workers, iter=iter)\n",
    "    model.wv.save_word2vec_format(output)\n",
    "    return"
   ]
  },
  {
   "cell_type": "code",
   "execution_count": 44,
   "metadata": {
    "scrolled": true
   },
   "outputs": [
    {
     "name": "stdout",
     "output_type": "stream",
     "text": [
      "Walk iteration:\n",
      "1 / 10\n",
      "2 / 10\n",
      "3 / 10\n",
      "4 / 10\n",
      "5 / 10\n",
      "6 / 10\n",
      "7 / 10\n",
      "8 / 10\n",
      "9 / 10\n",
      "10 / 10\n"
     ]
    },
    {
     "name": "stderr",
     "output_type": "stream",
     "text": [
      "/Users/leowan/anaconda3/lib/python3.6/site-packages/smart_open/smart_open_lib.py:398: UserWarning: This function is deprecated, use smart_open.open instead. See the migration notes for details: https://github.com/RaRe-Technologies/smart_open/blob/master/README.rst#migrating-to-the-new-open-function\n",
      "  'See the migration notes for details: %s' % _MIGRATION_NOTES_URL\n"
     ]
    }
   ],
   "source": [
    "nx_G = read_graph(input=\"../data/karate.edgelist\", is_weighted=False, is_directed=False)\n",
    "G = n2v.Graph(nx_G, is_directed=False, p=1, q=1)\n",
    "G.preprocess_transition_probs()\n",
    "walks = G.simulate_walks(num_walks=10, walk_length=80)\n",
    "learn_embeddings(walks, dimensions=128, window_size=10, workers=8, iter=1, output=\"../output/karate.emb\")"
   ]
  },
  {
   "cell_type": "code",
   "execution_count": null,
   "metadata": {},
   "outputs": [],
   "source": []
  }
 ],
 "metadata": {
  "kernelspec": {
   "display_name": "Python 3",
   "language": "python",
   "name": "python3"
  },
  "language_info": {
   "codemirror_mode": {
    "name": "ipython",
    "version": 3
   },
   "file_extension": ".py",
   "mimetype": "text/x-python",
   "name": "python",
   "nbconvert_exporter": "python",
   "pygments_lexer": "ipython3",
   "version": "3.6.8"
  }
 },
 "nbformat": 4,
 "nbformat_minor": 2
}
